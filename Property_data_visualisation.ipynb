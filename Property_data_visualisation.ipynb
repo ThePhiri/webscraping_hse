{
 "cells": [
  {
   "cell_type": "code",
   "execution_count": 1,
   "metadata": {},
   "outputs": [],
   "source": [
    "import pandas as pd\n",
    "import numpy as np\n",
    "import matplotlib.pyplot as plt"
   ]
  },
  {
   "cell_type": "code",
   "execution_count": 2,
   "metadata": {},
   "outputs": [],
   "source": [
    "\"\"\" Data taken from property24.com, focused on the city of johannesburg. \n",
    "rent prices and their frequecy are then visualised in a histogram\"\"\"\n",
    "df = pd.read_csv('p24.csv')"
   ]
  },
  {
   "cell_type": "code",
   "execution_count": 3,
   "metadata": {},
   "outputs": [
    {
     "data": {
      "text/html": [
       "<div>\n",
       "<style scoped>\n",
       "    .dataframe tbody tr th:only-of-type {\n",
       "        vertical-align: middle;\n",
       "    }\n",
       "\n",
       "    .dataframe tbody tr th {\n",
       "        vertical-align: top;\n",
       "    }\n",
       "\n",
       "    .dataframe thead th {\n",
       "        text-align: right;\n",
       "    }\n",
       "</style>\n",
       "<table border=\"1\" class=\"dataframe\">\n",
       "  <thead>\n",
       "    <tr style=\"text-align: right;\">\n",
       "      <th></th>\n",
       "      <th>title</th>\n",
       "      <th>price</th>\n",
       "      <th>excerpt</th>\n",
       "      <th>area</th>\n",
       "    </tr>\n",
       "  </thead>\n",
       "  <tbody>\n",
       "    <tr>\n",
       "      <th>0</th>\n",
       "      <td>3 Bedroom House to Rent in Riviera</td>\n",
       "      <td>\\n\\n                            R 16 000\\n    ...</td>\n",
       "      <td>\\n                    Stunning 3 bed \"tree top...</td>\n",
       "      <td>NaN</td>\n",
       "    </tr>\n",
       "    <tr>\n",
       "      <th>1</th>\n",
       "      <td>3 Bedroom House to Rent in Parkwood</td>\n",
       "      <td>\\n\\n                            R 23 000\\n    ...</td>\n",
       "      <td>\\n                    Magnificent 3 bedroom, 2...</td>\n",
       "      <td>1 071 m²</td>\n",
       "    </tr>\n",
       "    <tr>\n",
       "      <th>2</th>\n",
       "      <td>3 Bedroom House to Rent in Devland</td>\n",
       "      <td>\\n\\n                            R 6 500\\n     ...</td>\n",
       "      <td>\\n                    Available immediately!!!...</td>\n",
       "      <td>335 m²</td>\n",
       "    </tr>\n",
       "    <tr>\n",
       "      <th>3</th>\n",
       "      <td>2 Bedroom House to Rent in Mondeor</td>\n",
       "      <td>\\n\\n                            R 5 850\\n     ...</td>\n",
       "      <td>\\n                    Stunning New 2 Bed Apart...</td>\n",
       "      <td>NaN</td>\n",
       "    </tr>\n",
       "    <tr>\n",
       "      <th>4</th>\n",
       "      <td>3 Bedroom House to Rent in Sophiatown</td>\n",
       "      <td>\\n\\n                            R 10 000\\n    ...</td>\n",
       "      <td>\\n                    This spacious home with ...</td>\n",
       "      <td>515 m²</td>\n",
       "    </tr>\n",
       "    <tr>\n",
       "      <th>5</th>\n",
       "      <td>1 Bedroom House to Rent in Johannesburg Central</td>\n",
       "      <td>\\n\\n                            R 2 500\\n     ...</td>\n",
       "      <td>\\n                    Spacious beautiful and n...</td>\n",
       "      <td>NaN</td>\n",
       "    </tr>\n",
       "    <tr>\n",
       "      <th>6</th>\n",
       "      <td>2 Bedroom House to Rent in Winchester Hills</td>\n",
       "      <td>\\n\\n                            R 7 500\\n     ...</td>\n",
       "      <td>\\n                    Winchester Hills is cent...</td>\n",
       "      <td>NaN</td>\n",
       "    </tr>\n",
       "    <tr>\n",
       "      <th>7</th>\n",
       "      <td>3 Bedroom House to Rent in Kensington</td>\n",
       "      <td>\\n\\n                            R 10 500\\n    ...</td>\n",
       "      <td>\\n                    Lovely home on a street ...</td>\n",
       "      <td>NaN</td>\n",
       "    </tr>\n",
       "    <tr>\n",
       "      <th>8</th>\n",
       "      <td>3 Bedroom House to Rent in Parkhurst</td>\n",
       "      <td>\\n\\n                            R 23 000\\n    ...</td>\n",
       "      <td>\\n                    Well proportioned 3 bedr...</td>\n",
       "      <td>495 m²</td>\n",
       "    </tr>\n",
       "    <tr>\n",
       "      <th>9</th>\n",
       "      <td>4 Bedroom House to Rent in Mulbarton</td>\n",
       "      <td>\\n\\n                            R 18 000\\n    ...</td>\n",
       "      <td>\\n                    Welcoming you with 4 spa...</td>\n",
       "      <td>NaN</td>\n",
       "    </tr>\n",
       "  </tbody>\n",
       "</table>\n",
       "</div>"
      ],
      "text/plain": [
       "                                             title  \\\n",
       "0               3 Bedroom House to Rent in Riviera   \n",
       "1              3 Bedroom House to Rent in Parkwood   \n",
       "2               3 Bedroom House to Rent in Devland   \n",
       "3               2 Bedroom House to Rent in Mondeor   \n",
       "4            3 Bedroom House to Rent in Sophiatown   \n",
       "5  1 Bedroom House to Rent in Johannesburg Central   \n",
       "6      2 Bedroom House to Rent in Winchester Hills   \n",
       "7            3 Bedroom House to Rent in Kensington   \n",
       "8             3 Bedroom House to Rent in Parkhurst   \n",
       "9             4 Bedroom House to Rent in Mulbarton   \n",
       "\n",
       "                                               price  \\\n",
       "0  \\n\\n                            R 16 000\\n    ...   \n",
       "1  \\n\\n                            R 23 000\\n    ...   \n",
       "2  \\n\\n                            R 6 500\\n     ...   \n",
       "3  \\n\\n                            R 5 850\\n     ...   \n",
       "4  \\n\\n                            R 10 000\\n    ...   \n",
       "5  \\n\\n                            R 2 500\\n     ...   \n",
       "6  \\n\\n                            R 7 500\\n     ...   \n",
       "7  \\n\\n                            R 10 500\\n    ...   \n",
       "8  \\n\\n                            R 23 000\\n    ...   \n",
       "9  \\n\\n                            R 18 000\\n    ...   \n",
       "\n",
       "                                             excerpt      area  \n",
       "0  \\n                    Stunning 3 bed \"tree top...       NaN  \n",
       "1  \\n                    Magnificent 3 bedroom, 2...  1 071 m²  \n",
       "2  \\n                    Available immediately!!!...    335 m²  \n",
       "3  \\n                    Stunning New 2 Bed Apart...       NaN  \n",
       "4  \\n                    This spacious home with ...    515 m²  \n",
       "5  \\n                    Spacious beautiful and n...       NaN  \n",
       "6  \\n                    Winchester Hills is cent...       NaN  \n",
       "7  \\n                    Lovely home on a street ...       NaN  \n",
       "8  \\n                    Well proportioned 3 bedr...    495 m²  \n",
       "9  \\n                    Welcoming you with 4 spa...       NaN  "
      ]
     },
     "execution_count": 3,
     "metadata": {},
     "output_type": "execute_result"
    }
   ],
   "source": [
    "df.head(10)"
   ]
  },
  {
   "cell_type": "code",
   "execution_count": 4,
   "metadata": {},
   "outputs": [],
   "source": [
    "df = df.applymap(lambda x: x.strip() if isinstance(x, str) else x)"
   ]
  },
  {
   "cell_type": "code",
   "execution_count": 5,
   "metadata": {},
   "outputs": [],
   "source": [
    "df['price'] = df['price'].str.replace('R ', \"\") "
   ]
  },
  {
   "cell_type": "code",
   "execution_count": 6,
   "metadata": {},
   "outputs": [
    {
     "data": {
      "text/html": [
       "<div>\n",
       "<style scoped>\n",
       "    .dataframe tbody tr th:only-of-type {\n",
       "        vertical-align: middle;\n",
       "    }\n",
       "\n",
       "    .dataframe tbody tr th {\n",
       "        vertical-align: top;\n",
       "    }\n",
       "\n",
       "    .dataframe thead th {\n",
       "        text-align: right;\n",
       "    }\n",
       "</style>\n",
       "<table border=\"1\" class=\"dataframe\">\n",
       "  <thead>\n",
       "    <tr style=\"text-align: right;\">\n",
       "      <th></th>\n",
       "      <th>title</th>\n",
       "      <th>price</th>\n",
       "      <th>excerpt</th>\n",
       "      <th>area</th>\n",
       "    </tr>\n",
       "  </thead>\n",
       "  <tbody>\n",
       "    <tr>\n",
       "      <th>0</th>\n",
       "      <td>3 Bedroom House to Rent in Riviera</td>\n",
       "      <td>16000</td>\n",
       "      <td>Stunning 3 bed \"tree top\" 145 m2 penthouse apa...</td>\n",
       "      <td>NaN</td>\n",
       "    </tr>\n",
       "    <tr>\n",
       "      <th>1</th>\n",
       "      <td>3 Bedroom House to Rent in Parkwood</td>\n",
       "      <td>23000</td>\n",
       "      <td>Magnificent 3 bedroom, 2.5 bathroom house to r...</td>\n",
       "      <td>1 071 m²</td>\n",
       "    </tr>\n",
       "    <tr>\n",
       "      <th>2</th>\n",
       "      <td>3 Bedroom House to Rent in Devland</td>\n",
       "      <td>6500</td>\n",
       "      <td>Available immediately!!!\\n\\nThis beautiful 3 B...</td>\n",
       "      <td>335 m²</td>\n",
       "    </tr>\n",
       "    <tr>\n",
       "      <th>3</th>\n",
       "      <td>2 Bedroom House to Rent in Mondeor</td>\n",
       "      <td>5850</td>\n",
       "      <td>Stunning New 2 Bed Apartment near South Gate\\n...</td>\n",
       "      <td>NaN</td>\n",
       "    </tr>\n",
       "    <tr>\n",
       "      <th>4</th>\n",
       "      <td>3 Bedroom House to Rent in Sophiatown</td>\n",
       "      <td>10000</td>\n",
       "      <td>This spacious home with large garden is perfec...</td>\n",
       "      <td>515 m²</td>\n",
       "    </tr>\n",
       "    <tr>\n",
       "      <th>5</th>\n",
       "      <td>1 Bedroom House to Rent in Johannesburg Central</td>\n",
       "      <td>2500</td>\n",
       "      <td>Spacious beautiful and neatly built rooms with...</td>\n",
       "      <td>NaN</td>\n",
       "    </tr>\n",
       "    <tr>\n",
       "      <th>6</th>\n",
       "      <td>2 Bedroom House to Rent in Winchester Hills</td>\n",
       "      <td>7500</td>\n",
       "      <td>Winchester Hills is centrally situated with ea...</td>\n",
       "      <td>NaN</td>\n",
       "    </tr>\n",
       "    <tr>\n",
       "      <th>7</th>\n",
       "      <td>3 Bedroom House to Rent in Kensington</td>\n",
       "      <td>10500</td>\n",
       "      <td>Lovely home on a street lined Road in Kensingt...</td>\n",
       "      <td>NaN</td>\n",
       "    </tr>\n",
       "    <tr>\n",
       "      <th>8</th>\n",
       "      <td>3 Bedroom House to Rent in Parkhurst</td>\n",
       "      <td>23000</td>\n",
       "      <td>Well proportioned 3 bedroom 2 bathroom family ...</td>\n",
       "      <td>495 m²</td>\n",
       "    </tr>\n",
       "    <tr>\n",
       "      <th>9</th>\n",
       "      <td>4 Bedroom House to Rent in Mulbarton</td>\n",
       "      <td>18000</td>\n",
       "      <td>Welcoming you with 4 spacious rooms, 2 dining ...</td>\n",
       "      <td>NaN</td>\n",
       "    </tr>\n",
       "  </tbody>\n",
       "</table>\n",
       "</div>"
      ],
      "text/plain": [
       "                                             title  price  \\\n",
       "0               3 Bedroom House to Rent in Riviera  16000   \n",
       "1              3 Bedroom House to Rent in Parkwood  23000   \n",
       "2               3 Bedroom House to Rent in Devland   6500   \n",
       "3               2 Bedroom House to Rent in Mondeor   5850   \n",
       "4            3 Bedroom House to Rent in Sophiatown  10000   \n",
       "5  1 Bedroom House to Rent in Johannesburg Central   2500   \n",
       "6      2 Bedroom House to Rent in Winchester Hills   7500   \n",
       "7            3 Bedroom House to Rent in Kensington  10500   \n",
       "8             3 Bedroom House to Rent in Parkhurst  23000   \n",
       "9             4 Bedroom House to Rent in Mulbarton  18000   \n",
       "\n",
       "                                             excerpt      area  \n",
       "0  Stunning 3 bed \"tree top\" 145 m2 penthouse apa...       NaN  \n",
       "1  Magnificent 3 bedroom, 2.5 bathroom house to r...  1 071 m²  \n",
       "2  Available immediately!!!\\n\\nThis beautiful 3 B...    335 m²  \n",
       "3  Stunning New 2 Bed Apartment near South Gate\\n...       NaN  \n",
       "4  This spacious home with large garden is perfec...    515 m²  \n",
       "5  Spacious beautiful and neatly built rooms with...       NaN  \n",
       "6  Winchester Hills is centrally situated with ea...       NaN  \n",
       "7  Lovely home on a street lined Road in Kensingt...       NaN  \n",
       "8  Well proportioned 3 bedroom 2 bathroom family ...    495 m²  \n",
       "9  Welcoming you with 4 spacious rooms, 2 dining ...       NaN  "
      ]
     },
     "execution_count": 6,
     "metadata": {},
     "output_type": "execute_result"
    }
   ],
   "source": [
    "df['price'] = [x.replace(\"\\xa0\", \"\") for x in df['price']]\n",
    "df.head(10)"
   ]
  },
  {
   "cell_type": "code",
   "execution_count": 7,
   "metadata": {},
   "outputs": [
    {
     "data": {
      "text/plain": [
       "count      105.000000\n",
       "mean     14299.304762\n",
       "std      10517.667212\n",
       "min        180.000000\n",
       "25%       7000.000000\n",
       "50%       9999.000000\n",
       "75%      19500.000000\n",
       "max      70000.000000\n",
       "Name: price, dtype: float64"
      ]
     },
     "execution_count": 7,
     "metadata": {},
     "output_type": "execute_result"
    }
   ],
   "source": [
    "#descriptive statistics for pricing of rent in johannesburg\n",
    "df['price'] = df['price'].astype(int)\n",
    "df['price'].describe()"
   ]
  },
  {
   "cell_type": "markdown",
   "metadata": {},
   "source": [
    "#### Mean Price is 14299.30"
   ]
  },
  {
   "cell_type": "code",
   "execution_count": 8,
   "metadata": {},
   "outputs": [
    {
     "data": {
      "image/png": "[encoded data removed]",
      "text/plain": [
       "<Figure size 432x288 with 1 Axes>"
      ]
     },
     "metadata": {
      "needs_background": "light"
     },
     "output_type": "display_data"
    }
   ],
   "source": [
    "#histogram of the rent prices\n",
    "price = df['price']\n",
    "plt.hist(price, bins=20)\n",
    "plt.show()"
   ]
  },
  {
   "cell_type": "markdown",
   "metadata": {},
   "source": [
    "#### Prices are positively skewed which indicates that most houses prices fall towards the lower end of the scale"
   ]
  },
  {
   "cell_type": "code",
   "execution_count": 16,
   "metadata": {},
   "outputs": [
    {
     "data": {
      "image/png": "[encoded data removed]",
      "text/plain": [
       "<Figure size 432x288 with 1 Axes>"
      ]
     },
     "metadata": {
      "needs_background": "light"
     },
     "output_type": "display_data"
    }
   ],
   "source": [
    "df.boxplot(column=['price'])\n",
    "plt.show()"
   ]
  },
  {
   "cell_type": "markdown",
   "metadata": {},
   "source": [
    "#### Most housing prices range between 6500 and 20 000. "
   ]
  },
  {
   "cell_type": "code",
   "execution_count": 19,
   "metadata": {},
   "outputs": [
    {
     "data": {
      "text/plain": [
       "6500     9\n",
       "7500     8\n",
       "18000    7\n",
       "8000     6\n",
       "23000    6\n",
       "7000     5\n",
       "30000    4\n",
       "9200     4\n",
       "2500     4\n",
       "16000    4\n",
       "5850     3\n",
       "34500    3\n",
       "10500    3\n",
       "9999     3\n",
       "10000    3\n",
       "25000    3\n",
       "22000    3\n",
       "5500     3\n",
       "17250    3\n",
       "19500    2\n",
       "9500     2\n",
       "8500     1\n",
       "70000    1\n",
       "18500    1\n",
       "9800     1\n",
       "14000    1\n",
       "21000    1\n",
       "12000    1\n",
       "3300     1\n",
       "15850    1\n",
       "29000    1\n",
       "23500    1\n",
       "6000     1\n",
       "180      1\n",
       "6200     1\n",
       "50000    1\n",
       "26000    1\n",
       "11500    1\n",
       "Name: price, dtype: int64"
      ]
     },
     "execution_count": 19,
     "metadata": {},
     "output_type": "execute_result"
    }
   ],
   "source": [
    "price.value_counts()"
   ]
  },
  {
   "cell_type": "markdown",
   "metadata": {},
   "source": [
    "#### Most popular price was 6500"
   ]
  },
  {
   "cell_type": "code",
   "execution_count": null,
   "metadata": {},
   "outputs": [],
   "source": []
  }
 ],
 "metadata": {
  "kernelspec": {
   "display_name": "Python 3",
   "language": "python",
   "name": "python3"
  },
  "language_info": {
   "codemirror_mode": {
    "name": "ipython",
    "version": 3
   },
   "file_extension": ".py",
   "mimetype": "text/x-python",
   "name": "python",
   "nbconvert_exporter": "python",
   "pygments_lexer": "ipython3",
   "version": "3.6.8"
  }
 },
 "nbformat": 4,
 "nbformat_minor": 2
}
