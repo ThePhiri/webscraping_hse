{
 "cells": [
  {
   "cell_type": "code",
   "execution_count": 1,
   "metadata": {},
   "outputs": [],
   "source": [
    "import pandas as pd\n",
    "import numpy as np\n",
    "import matplotlib.pyplot as plt"
   ]
  },
  {
   "cell_type": "code",
   "execution_count": 2,
   "metadata": {},
   "outputs": [],
   "source": [
    "\"\"\" Data taken from property24.com, focused on the city of johannesburg. \n",
    "Housing prices and their frequecy are then visualised in a histogram\"\"\"\n",
    "df = pd.read_csv('p24.csv')"
   ]
  },
  {
   "cell_type": "code",
   "execution_count": null,
   "metadata": {},
   "outputs": [],
   "source": [
    "df.head(10)"
   ]
  },
  {
   "cell_type": "code",
   "execution_count": 4,
   "metadata": {},
   "outputs": [],
   "source": [
    "df = df.applymap(lambda x: x.strip() if isinstance(x, str) else x)"
   ]
  },
  {
   "cell_type": "code",
   "execution_count": 5,
   "metadata": {},
   "outputs": [],
   "source": [
    "df['price'] = df['price'].str.replace('R ', \"\") "
   ]
  },
  {
   "cell_type": "code",
   "execution_count": 6,
   "metadata": {},
   "outputs": [
    {
     "data": {
      "text/html": [
       "<div>\n",
       "<style scoped>\n",
       "    .dataframe tbody tr th:only-of-type {\n",
       "        vertical-align: middle;\n",
       "    }\n",
       "\n",
       "    .dataframe tbody tr th {\n",
       "        vertical-align: top;\n",
       "    }\n",
       "\n",
       "    .dataframe thead th {\n",
       "        text-align: right;\n",
       "    }\n",
       "</style>\n",
       "<table border=\"1\" class=\"dataframe\">\n",
       "  <thead>\n",
       "    <tr style=\"text-align: right;\">\n",
       "      <th></th>\n",
       "      <th>title</th>\n",
       "      <th>price</th>\n",
       "      <th>excerpt</th>\n",
       "      <th>area</th>\n",
       "    </tr>\n",
       "  </thead>\n",
       "  <tbody>\n",
       "    <tr>\n",
       "      <th>0</th>\n",
       "      <td>3 Bedroom House to Rent in Riviera</td>\n",
       "      <td>16000</td>\n",
       "      <td>Stunning 3 bed \"tree top\" 145 m2 penthouse apa...</td>\n",
       "      <td>NaN</td>\n",
       "    </tr>\n",
       "    <tr>\n",
       "      <th>1</th>\n",
       "      <td>3 Bedroom House to Rent in Parkwood</td>\n",
       "      <td>23000</td>\n",
       "      <td>Magnificent 3 bedroom, 2.5 bathroom house to r...</td>\n",
       "      <td>1 071 m²</td>\n",
       "    </tr>\n",
       "    <tr>\n",
       "      <th>2</th>\n",
       "      <td>3 Bedroom House to Rent in Devland</td>\n",
       "      <td>6500</td>\n",
       "      <td>Available immediately!!!\\n\\nThis beautiful 3 B...</td>\n",
       "      <td>335 m²</td>\n",
       "    </tr>\n",
       "    <tr>\n",
       "      <th>3</th>\n",
       "      <td>2 Bedroom House to Rent in Mondeor</td>\n",
       "      <td>5850</td>\n",
       "      <td>Stunning New 2 Bed Apartment near South Gate\\n...</td>\n",
       "      <td>NaN</td>\n",
       "    </tr>\n",
       "    <tr>\n",
       "      <th>4</th>\n",
       "      <td>3 Bedroom House to Rent in Sophiatown</td>\n",
       "      <td>10000</td>\n",
       "      <td>This spacious home with large garden is perfec...</td>\n",
       "      <td>515 m²</td>\n",
       "    </tr>\n",
       "    <tr>\n",
       "      <th>5</th>\n",
       "      <td>1 Bedroom House to Rent in Johannesburg Central</td>\n",
       "      <td>2500</td>\n",
       "      <td>Spacious beautiful and neatly built rooms with...</td>\n",
       "      <td>NaN</td>\n",
       "    </tr>\n",
       "    <tr>\n",
       "      <th>6</th>\n",
       "      <td>2 Bedroom House to Rent in Winchester Hills</td>\n",
       "      <td>7500</td>\n",
       "      <td>Winchester Hills is centrally situated with ea...</td>\n",
       "      <td>NaN</td>\n",
       "    </tr>\n",
       "    <tr>\n",
       "      <th>7</th>\n",
       "      <td>3 Bedroom House to Rent in Kensington</td>\n",
       "      <td>10500</td>\n",
       "      <td>Lovely home on a street lined Road in Kensingt...</td>\n",
       "      <td>NaN</td>\n",
       "    </tr>\n",
       "    <tr>\n",
       "      <th>8</th>\n",
       "      <td>3 Bedroom House to Rent in Parkhurst</td>\n",
       "      <td>23000</td>\n",
       "      <td>Well proportioned 3 bedroom 2 bathroom family ...</td>\n",
       "      <td>495 m²</td>\n",
       "    </tr>\n",
       "    <tr>\n",
       "      <th>9</th>\n",
       "      <td>4 Bedroom House to Rent in Mulbarton</td>\n",
       "      <td>18000</td>\n",
       "      <td>Welcoming you with 4 spacious rooms, 2 dining ...</td>\n",
       "      <td>NaN</td>\n",
       "    </tr>\n",
       "  </tbody>\n",
       "</table>\n",
       "</div>"
      ],
      "text/plain": [
       "                                             title  price  \\\n",
       "0               3 Bedroom House to Rent in Riviera  16000   \n",
       "1              3 Bedroom House to Rent in Parkwood  23000   \n",
       "2               3 Bedroom House to Rent in Devland   6500   \n",
       "3               2 Bedroom House to Rent in Mondeor   5850   \n",
       "4            3 Bedroom House to Rent in Sophiatown  10000   \n",
       "5  1 Bedroom House to Rent in Johannesburg Central   2500   \n",
       "6      2 Bedroom House to Rent in Winchester Hills   7500   \n",
       "7            3 Bedroom House to Rent in Kensington  10500   \n",
       "8             3 Bedroom House to Rent in Parkhurst  23000   \n",
       "9             4 Bedroom House to Rent in Mulbarton  18000   \n",
       "\n",
       "                                             excerpt      area  \n",
       "0  Stunning 3 bed \"tree top\" 145 m2 penthouse apa...       NaN  \n",
       "1  Magnificent 3 bedroom, 2.5 bathroom house to r...  1 071 m²  \n",
       "2  Available immediately!!!\\n\\nThis beautiful 3 B...    335 m²  \n",
       "3  Stunning New 2 Bed Apartment near South Gate\\n...       NaN  \n",
       "4  This spacious home with large garden is perfec...    515 m²  \n",
       "5  Spacious beautiful and neatly built rooms with...       NaN  \n",
       "6  Winchester Hills is centrally situated with ea...       NaN  \n",
       "7  Lovely home on a street lined Road in Kensingt...       NaN  \n",
       "8  Well proportioned 3 bedroom 2 bathroom family ...    495 m²  \n",
       "9  Welcoming you with 4 spacious rooms, 2 dining ...       NaN  "
      ]
     },
     "execution_count": 6,
     "metadata": {},
     "output_type": "execute_result"
    }
   ],
   "source": [
    "df['price'] = [x.replace(\"\\xa0\", \"\") for x in df['price']]\n",
    "df.head(10)"
   ]
  },
  {
   "cell_type": "code",
   "execution_count": 7,
   "metadata": {},
   "outputs": [
    {
     "data": {
      "text/plain": [
       "count      105.000000\n",
       "mean     14299.304762\n",
       "std      10517.667212\n",
       "min        180.000000\n",
       "25%       7000.000000\n",
       "50%       9999.000000\n",
       "75%      19500.000000\n",
       "max      70000.000000\n",
       "Name: price, dtype: float64"
      ]
     },
     "execution_count": 7,
     "metadata": {},
     "output_type": "execute_result"
    }
   ],
   "source": [
    "#descriptive statistics for pricing of houses in johannesburg\n",
    "df['price'] = df['price'].astype(int)\n",
    "df['price'].describe()"
   ]
  },
  {
   "cell_type": "code",
   "execution_count": 8,
   "metadata": {},
   "outputs": [
    {
     "data": {
      "image/png": "[encoded data removed]",
      "text/plain": [
       "<Figure size 432x288 with 1 Axes>"
      ]
     },
     "metadata": {
      "needs_background": "light"
     },
     "output_type": "display_data"
    }
   ],
   "source": [
    "#histogram of the housing prices\n",
    "price = df['price']\n",
    "plt.hist(price, bins=20)\n",
    "plt.show()"
   ]
  }
 ],
 "metadata": {
  "kernelspec": {
   "display_name": "Python 3",
   "language": "python",
   "name": "python3"
  },
  "language_info": {
   "codemirror_mode": {
    "name": "ipython",
    "version": 3
   },
   "file_extension": ".py",
   "mimetype": "text/x-python",
   "name": "python",
   "nbconvert_exporter": "python",
   "pygments_lexer": "ipython3",
   "version": "3.6.8"
  }
 },
 "nbformat": 4,
 "nbformat_minor": 2
}
